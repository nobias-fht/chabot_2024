{
 "cells": [
  {
   "cell_type": "code",
   "execution_count": 4,
   "metadata": {},
   "outputs": [],
   "source": [
    "#Script developed by Damian Dalle Nogare at the Human Technopole Image Analysis Facility\n",
    "#Part of the National Facility for Data Handling and Analysis\n",
    "#Licenced under the BSD-3 license\n",
    "\n",
    "#import packages\n",
    "import skimage\n",
    "import numpy as np\n",
    "import os\n",
    "import math\n",
    "import pandas as pd\n",
    "import cv2"
   ]
  },
  {
   "cell_type": "code",
   "execution_count": 5,
   "metadata": {},
   "outputs": [],
   "source": [
    "#define functions\n",
    "\n",
    "def calculate_border_distances(im, tracked_filename, frame, label):\n",
    "    '''calculates the mean and standard deviation between the centroid and all the border pixels\n",
    "    for a single max-projected convex hull image'''\n",
    "    prop = skimage.measure.regionprops(im)\n",
    "    distance_array = []\n",
    "    hull_edge = np.zeros(im.shape, dtype=np.uint8)\n",
    "    for coord in prop[0]['coords']:\n",
    "        if is_edge_pixel(im, coord[0], coord[1]):\n",
    "            distance_array.append(round(math.dist(prop[0]['centroid'], coord),2))\n",
    "            hull_edge[coord[0], coord[1]] = 255\n",
    "    mean = np.mean(distance_array)\n",
    "    stdev = np.std(distance_array)\n",
    "    return mean, stdev, distance_array, hull_edge\n",
    "\n",
    "def is_edge_pixel(im, y, x):\n",
    "    '''for a given pixel coordinate (y, x) in an image (im), calculates whether it is on the border of a mask (non-zero pixel adjacent)'''\n",
    "    val = im[y, x]\n",
    "    if im[y, x-1] == 0:\n",
    "        return True\n",
    "    if im[y, x+1] == 0:\n",
    "        return True\n",
    "    if im[y-1, x] == 0:\n",
    "        return True\n",
    "    if im[y+1, x] == 0:\n",
    "        return True\n",
    "    return False"
   ]
  },
  {
   "cell_type": "code",
   "execution_count": 7,
   "metadata": {},
   "outputs": [
    {
     "name": "stderr",
     "output_type": "stream",
     "text": [
      "/tmp/ipykernel_57075/3583709553.py:18: UserWarning: circles/radius_2.tif is a low contrast image\n",
      "  skimage.io.imsave('circles/radius_' + str(r) + '.tif', edge_im)\n",
      "/tmp/ipykernel_57075/3583709553.py:18: UserWarning: circles/radius_3.tif is a low contrast image\n",
      "  skimage.io.imsave('circles/radius_' + str(r) + '.tif', edge_im)\n",
      "/tmp/ipykernel_57075/3583709553.py:18: UserWarning: circles/radius_4.tif is a low contrast image\n",
      "  skimage.io.imsave('circles/radius_' + str(r) + '.tif', edge_im)\n",
      "/tmp/ipykernel_57075/3583709553.py:18: UserWarning: circles/radius_5.tif is a low contrast image\n",
      "  skimage.io.imsave('circles/radius_' + str(r) + '.tif', edge_im)\n"
     ]
    }
   ],
   "source": [
    "\n",
    "#loop through circle radiu and calculate the distance to each edge pixel from the centroid coordinate\n",
    "\n",
    "for r in range(2, 6):\n",
    "    df = pd.DataFrame()\n",
    "    im = np.zeros((20, 20))\n",
    "    im2 = cv2.circle(im, (10,10), r, color=255)\n",
    "\n",
    "    labs = skimage.measure.label(im2) \n",
    "    prop = skimage.measure.regionprops(labs)\n",
    "    distance_array = []\n",
    "    edge_im = np.zeros(im.shape, dtype=np.uint8)\n",
    "\n",
    "    for coord in prop[0]['coords']:\n",
    "        if is_edge_pixel(im, coord[0], coord[1]):\n",
    "            distance_array.append(round(math.dist(prop[0]['centroid'], coord),2))\n",
    "    os.makedirs('circles', exist_ok=True)\n",
    "    df['radius_' + str(r)] = distance_array\n",
    "    skimage.io.imsave('circles/radius_' + str(r) + '.tif', edge_im)\n",
    "    df.to_csv('circles/radius_' + str(r) + '.csv')\n"
   ]
  }
 ],
 "metadata": {
  "kernelspec": {
   "display_name": "data_analysis",
   "language": "python",
   "name": "python3"
  },
  "language_info": {
   "codemirror_mode": {
    "name": "ipython",
    "version": 3
   },
   "file_extension": ".py",
   "mimetype": "text/x-python",
   "name": "python",
   "nbconvert_exporter": "python",
   "pygments_lexer": "ipython3",
   "version": "3.8.19"
  }
 },
 "nbformat": 4,
 "nbformat_minor": 2
}
